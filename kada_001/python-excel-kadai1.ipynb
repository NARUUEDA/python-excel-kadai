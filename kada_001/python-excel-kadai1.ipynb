{
  "nbformat": 4,
  "nbformat_minor": 0,
  "metadata": {
    "colab": {
      "provenance": []
    },
    "kernelspec": {
      "name": "python3",
      "display_name": "Python 3"
    },
    "language_info": {
      "name": "python"
    }
  },
  "cells": [
    {
      "cell_type": "code",
      "source": [
        "import openpyxl\n",
        "\n",
        "workbook = openpyxl.Workbook()\n",
        "\n",
        "ws = workbook.active\n",
        "\n",
        "ws['B2'] = '請求書'\n",
        "ws['B4'] = '株式会社ABC'\n",
        "ws['B5'] = '〒101-0022 東京都千代田区神田練塀町300'\n",
        "ws['B6'] = 'TEL:03-1234-5678 FAX:03-1234-5678'\n",
        "ws['B7'] = '担当者名:鈴木一郎 様'\n",
        "ws['F4'] = 'No.'\n",
        "ws['F5'] = '日付'\n",
        "ws['G4'] = '0001'\n",
        "\n",
        "from datetime import date\n",
        "today = date.today()\n",
        "ws['G5'] = today.strftime(\"%Y/%m/%d\")\n",
        "\n",
        "date = [\n",
        "    ['商品名', '数量', '単価', '金額'],\n",
        "    ['商品A', 2, 10000,20000 ],\n",
        "    ['商品B', 1, 15000, 15000],\n",
        "    [ '', '', '', 35000],\n",
        "    ['', '', '', ''],\n",
        "    ['小計', '', '', 35000],\n",
        "    ['消費税', '', '', 3500],\n",
        "    ['合計', '', '', 38500]\n",
        "]\n",
        "\n",
        "start_row = 10\n",
        "start_column = 2\n",
        "\n",
        "for row in date:\n",
        "    for cell in row:\n",
        "        ws.cell(row=start_row, column=start_column).value = cell\n",
        "        start_column += 1\n",
        "    start_row += 1\n",
        "    start_column = 2\n",
        "\n",
        "from datetime import datetime\n",
        "請求書_today = datetime.today()\n",
        "\n",
        "workbook.save(f\"{請求書_today.strftime('%Y%m%d')}.xlsx\")\n",
        "\n",
        "\n",
        "\n",
        "\n",
        "\n",
        "\n",
        "\n"
      ],
      "metadata": {
        "id": "nWhoJfHPaRc1"
      },
      "execution_count": 23,
      "outputs": []
    },
    {
      "cell_type": "markdown",
      "source": [
        "# 新しいセクション"
      ],
      "metadata": {
        "id": "wF485tjU7jVa"
      }
    }
  ]
}