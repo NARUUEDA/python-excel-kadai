{
  "nbformat": 4,
  "nbformat_minor": 0,
  "metadata": {
    "colab": {
      "provenance": []
    },
    "kernelspec": {
      "name": "python3",
      "display_name": "Python 3"
    },
    "language_info": {
      "name": "python"
    }
  },
  "cells": [
    {
      "cell_type": "code",
      "execution_count": 8,
      "metadata": {
        "id": "oS26k21xrJ-k"
      },
      "outputs": [],
      "source": [
        "import pandas as pd\n",
        "\n",
        "import datetime\n",
        "\n",
        "from openpyxl import load_workbook\n",
        "\n",
        "start_date = datetime.datetime.strptime('2023-05-17', '%Y-%m-%d')\n",
        "\n",
        "df = pd.DataFrame({\n",
        "    '日付': pd.date_range(start=start_date, periods=5),\n",
        "    '社員名': ('山田', '佐藤', '鈴木', '田中', '高橋'),\n",
        "     '売上': (100, 200, 150, 300, 250),\n",
        "     '部門': ('メーカー', '代理店', 'メーカー', '商社', '代理店')\n",
        "})\n",
        "\n",
        "ave = df['売上'].mean()\n",
        "df['平均売上'] = ave\n",
        "\n",
        "def performance(rank):\n",
        "  if rank >= ave+50:\n",
        "      return 'A'\n",
        "  elif rank >= ave and rank < ave+50:\n",
        "      return 'B'\n",
        "  else:\n",
        "      return 'C'\n",
        "\n",
        "df['業績レベル'] = df['売上'].apply(performance)\n",
        "\n",
        "with pd.ExcelWriter('業績.xlsx', engine='openpyxl') as writer:\n",
        "    df.to_excel(writer, sheet_name='Sheet1', index=False)\n",
        "\n",
        "wb = writer.book\n",
        "ws = wb['Sheet1']\n",
        "\n",
        "for cell in ws['A'][1:]:  # ヘッダーを除く\n",
        "    cell.number_format = 'yyyy-mm-dd'\n",
        "\n",
        "wb.save('業績.xlsx')\n"
      ]
    }
  ]
}